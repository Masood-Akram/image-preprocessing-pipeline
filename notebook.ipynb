{
 "cells": [
  {
   "cell_type": "markdown",
   "id": "d852ee58",
   "metadata": {},
   "source": [
    "## test bleach correction"
   ]
  },
  {
   "cell_type": "code",
   "execution_count": null,
   "id": "d010ffc4",
   "metadata": {
    "scrolled": false
   },
   "outputs": [],
   "source": [
    "from IPython.display import display, HTML\n",
    "display(HTML(\"<style>.container { width:100% !important; }</style>\"))\n",
    "from pathlib import Path\n",
    "from pystripe.core import imread_tif_raw_png, glob_re, log1p_jit, expm1_jit, correct_bleaching\n",
    "import matplotlib.pyplot as plt\n",
    "from skimage.filters import threshold_otsu\n",
    "\n",
    "\n",
    "files_path = Path(r\"/qnap/SmartSPIM_Data/2023_04_02/20230402_10_49_31_SM220712_01_LS_15x_800z/Ex_488_Em_525_MIP\")\n",
    "for file in glob_re(r\"tiff?\", files_path):\n",
    "    img = imread_tif_raw_png(file)\n",
    "    if img.min() < img.max():\n",
    "        img_filtered = log1p_jit(img)\n",
    "        threshold = threshold_otsu(img_filtered)\n",
    "        print(threshold)\n",
    "        if threshold < 3:\n",
    "            continue\n",
    "        \n",
    "        img_filtered = expm1_jit(correct_bleaching(img_filtered, 0.0005, max_method=True))\n",
    "        fig, axes = plt.subplots(nrows=1, ncols=2, figsize=(10, 10))\n",
    "        axes[0].imshow(img, cmap='gray', vmin=0, vmax=2047)\n",
    "        axes[0].set_title(\"original\")\n",
    "        axes[1].imshow(img_filtered, cmap='gray', vmin=0, vmax=2047)\n",
    "        axes[1].set_title(\"bleach corrected\")\n",
    "        plt.tight_layout()\n",
    "        plt.show()"
   ]
  },
  {
   "cell_type": "code",
   "execution_count": null,
   "id": "210b5f48",
   "metadata": {
    "ExecuteTime": {
     "start_time": "2023-04-20T03:59:50.735108Z",
     "end_time": "2023-04-20T03:59:52.481218Z"
    }
   },
   "outputs": [],
   "source": [
    "from IPython.display import display, HTML\n",
    "display(HTML(\"<style>.container { width:100% !important; }</style>\"))\n",
    "from pystripe.core import *\n",
    "import matplotlib.pyplot as plt\n",
    "def plot_images(img_list: List[ndarray], img_labels: List[str], vmax: int):\n",
    "    fig, axes = plt.subplots(nrows=1, ncols=2, figsize=(20, 20))\n",
    "    for idx, (im, label) in enumerate(zip(img_list, img_labels)):\n",
    "        axes[idx].imshow(im, cmap='gray', vmin=0, vmax=vmax)\n",
    "        axes[idx].set_title(label)\n",
    "    plt.tight_layout()\n",
    "    plt.show()\n",
    "\n",
    "# from tsv.volume import TSVVolume, VExtent\n",
    "# file = Path(r\"/data/20230402_SM220712_01_LS_15x_800z_stitched/Ex_488_Em_525_xml_import_step_5.xml\")\n",
    "# tsv_volume = TSVVolume.load(file)\n",
    "# x0, x1, y0, y1 = tsv_volume.volume.x0, tsv_volume.volume.x1, tsv_volume.volume.y0, tsv_volume.volume.y1\n",
    "# idx = 3001\n",
    "# img = tsv_volume.imread(VExtent(x0, x1, y0, y1, idx, idx + 1), \"uint16\")[0]\n",
    "img = imread_tif_raw_png(Path(r\"/data/20230402_SM220712_01_LS_15x_800z_stitched/Ex_488_Em_525_tif/img_003000.tif\"))"
   ]
  },
  {
   "cell_type": "code",
   "execution_count": null,
   "outputs": [],
   "source": [
    "imgs = tuple(imread_tif_raw_png(Path(f\"/data/20230402_SM220712_01_LS_15x_800z_stitched/Ex_488_Em_525_tif/img_{idx:06}.tif\")) for idx in range(1000, 10000, 1000))\n",
    "for img in imgs:\n",
    "    img_destriped = process_img(\n",
    "        img.copy(),\n",
    "        sigma=(4000, 4000), bidirectional=False, bleach_correction_frequency=1/2000, bleach_correction_clip_max=511, exclude_dark_edges_set_them_to_zero=True, bleach_correction_y_slice_max=None,\n",
    "        # lightsheet=True, percentile=.025, background_window_size=100, artifact_length=90,\n",
    "        verbose=True\n",
    "    )\n",
    "    plot_images([img, img_destriped], [\"original\", \"processed\"], vmax=2047)"
   ],
   "metadata": {
    "collapsed": false,
    "ExecuteTime": {
     "start_time": "2023-04-20T03:59:52.484205Z",
     "end_time": "2023-04-20T04:46:33.035138Z"
    }
   }
  },
  {
   "cell_type": "code",
   "execution_count": null,
   "outputs": [],
   "source": [
    "def slice_non_zero_box(img_axis: ndarray, noise: int, filter_frequency: int = 1/1000) -> (int, int):\n",
    "    return min_max_1d(nonzero(butter_lowpass_filter(img_axis, filter_frequency).astype(uint16) > noise)[0])\n",
    "\n",
    "\n",
    "noise_percentile = 5\n",
    "foreground_percentile = 100 - noise_percentile\n",
    "# idx = 4000\n",
    "imgs = tuple(imread_tif_raw_png(Path(f\"/data/20230402_SM220712_01_LS_15x_800z_stitched/Ex_488_Em_525_tif/img_{idx:06}.tif\")) for idx in range(1000, 10000, 1000))\n",
    "maxes = tuple((np_max(img, axis=0), np_max(img, axis=1)) for img in imgs)\n",
    "for idx, (img, (img_max_x, img_max_y)) in enumerate(zip(imgs, maxes), start=1):\n",
    "\n",
    "    x_slice_min, x_slice_max = slice_non_zero_box(img_max_x, prctl(img_max_x, noise_percentile))\n",
    "    y_slice_min, y_slice_max = slice_non_zero_box(img_max_y, prctl(img_max_y, noise_percentile))\n",
    "    print(\n",
    "        f\"{idx}  min  max  end\\n\"\n",
    "        f\"x {x_slice_min} {x_slice_max} {img.shape[1]}\\n\"\n",
    "        f\"y {y_slice_min} {y_slice_max} {img.shape[0]}\\n\"\n",
    "        f\"work {(x_slice_max - x_slice_min) * (y_slice_max - y_slice_min) / (img.shape[0] * img.shape[1])*100:.1f}%\\n\"\n",
    "    )\n",
    "    tile_size = img.shape\n",
    "    d_type = img.dtype\n",
    "    img_sliced = img[y_slice_min:y_slice_max, x_slice_min:x_slice_max]\n",
    "    img_zero = zeros(shape=tile_size, dtype=d_type)\n",
    "    img_zero[y_slice_min:y_slice_max, x_slice_min:x_slice_max] = img_sliced\n",
    "    plot_images([img, img_zero], [\"original\", \"processed\"], vmax=100)\n"
   ],
   "metadata": {
    "collapsed": false,
    "ExecuteTime": {
     "start_time": "2023-04-19T22:34:32.072667Z",
     "end_time": "2023-04-19T22:34:34.037381Z"
    }
   }
  },
  {
   "cell_type": "code",
   "execution_count": 1,
   "outputs": [
    {
     "name": "stdout",
     "output_type": "stream",
     "text": [
      "\u001B[92m2023-05-06 19:35:02: \u001B[0musing 128 workers. 10081 images need to be processed.\n"
     ]
    },
    {
     "name": "stderr",
     "output_type": "stream",
     "text": [
      "RGB: 100%|##########| 10081/10081 [5:21:22<00:00,  1.91s/ images] \n"
     ]
    }
   ],
   "source": [
    "from process_images import *\n",
    "merge_all_channels(\n",
    "    [\n",
    "        Path(r\"/data/20230411_12_44_26_SW220414_01_LS_15x_800z_stitched/Ex_488_Em_525_tif\"),\n",
    "        Path(r\"/data/20230411_12_44_26_SW220414_01_LS_15x_800z_stitched/Ex_488_Em_525_tif_deconvolved\"),\n",
    "        Path(r\"/data/20230411_12_44_26_SW220414_01_LS_15x_800z_stitched/Ex_561_Em_600_tif\"),\n",
    "    ],\n",
    "    Path(r\"/data/20230411_12_44_26_SW220414_01_LS_15x_800z_stitched/merged\"),\n",
    "    compression=None,\n",
    "    right_bit_shift=(0, 8, 5)\n",
    ")\n"
   ],
   "metadata": {
    "collapsed": false,
    "ExecuteTime": {
     "end_time": "2023-05-07T07:56:25.419757830Z",
     "start_time": "2023-05-07T02:34:57.497104658Z"
    }
   }
  }
 ],
 "metadata": {
  "kernelspec": {
   "display_name": "Python 3 (ipykernel)",
   "language": "python",
   "name": "python3"
  },
  "language_info": {
   "codemirror_mode": {
    "name": "ipython",
    "version": 3
   },
   "file_extension": ".py",
   "mimetype": "text/x-python",
   "name": "python",
   "nbconvert_exporter": "python",
   "pygments_lexer": "ipython3",
   "version": "3.10.10"
  }
 },
 "nbformat": 4,
 "nbformat_minor": 5
}
