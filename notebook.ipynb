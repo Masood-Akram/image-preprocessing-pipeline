{
 "cells": [
  {
   "cell_type": "markdown",
   "id": "d852ee58",
   "metadata": {},
   "source": [
    "## load libs"
   ]
  },
  {
   "cell_type": "code",
   "execution_count": null,
   "id": "d010ffc4",
   "metadata": {
    "scrolled": false
   },
   "outputs": [],
   "source": [
    "from IPython.display import display, HTML\n",
    "display(HTML(\"<style>.container { width:100% !important; }</style>\"))\n",
    "from process_images import *\n",
    "from pystripe.core import *\n",
    "import matplotlib.pyplot as plt\n",
    "def plot_images(img_list: List[ndarray], img_labels: List[str], vmax: int):\n",
    "    fig, axes = plt.subplots(nrows=1, ncols=2, figsize=(20, 20))\n",
    "    for idx, (im, label) in enumerate(zip(img_list, img_labels)):\n",
    "        axes[idx].imshow(im, cmap='gray', vmin=0, vmax=vmax)\n",
    "        axes[idx].set_title(label)\n",
    "    plt.tight_layout()\n",
    "    plt.show()"
   ]
  },
  {
   "cell_type": "code",
   "execution_count": null,
   "id": "210b5f48",
   "metadata": {
    "is_executing": true
   },
   "outputs": [],
   "source": [
    "from parallel_image_processor import *\n",
    "parallel_image_processor(\n",
    "    source=TSVVolume.load(r'/data/20230419_17_34_03_SM221011_06_LS_15x_800z_stitched/Ex_488_Em_525_xml_import_step_5.xml'),\n",
    "    destination=r\"/data/20230419_17_34_03_SM221011_06_LS_15x_800z_stitched/Ex_488_Em_525_tif\",\n",
    "    fun=process_img,\n",
    "    kwargs={'bleach_correction_frequency': 0.0005, 'bleach_correction_max_method': False, 'bleach_correction_y_slice_max': None, 'threshold': None, 'sigma': (4000.0, 4000.0), 'bidirectional': True, 'lightsheet': False, 'percentile': 0.25, 'rotate': 90, 'convert_to_8bit': False, 'bit_shift_to_right': 8, 'tile_size': (39220, 28056), 'd_type': 'uint16', \"verbose\": True},\n",
    "    source_voxel=(0.8, 0.4, 0.4),\n",
    "    target_voxel=20,\n",
    "    max_processors=1\n",
    ")"
   ]
  },
  {
   "cell_type": "code",
   "execution_count": null,
   "outputs": [],
   "source": [
    "merge_all_channels(\n",
    "    [\n",
    "        Path(r\"/data/20230411_12_44_26_SW220414_01_LS_15x_800z_stitched/Ex_488_Em_525_tif\"),\n",
    "        Path(r\"/data/20230411_12_44_26_SW220414_01_LS_15x_800z_stitched/Ex_488_Em_525_tif_deconvolved\"),\n",
    "        Path(r\"/data/20230411_12_44_26_SW220414_01_LS_15x_800z_stitched/Ex_561_Em_600_tif\"),\n",
    "    ],\n",
    "    Path(r\"/data/20230411_12_44_26_SW220414_01_LS_15x_800z_stitched/merged\"),\n",
    "    compression=None,\n",
    "    right_bit_shift=(0, 8, 5)\n",
    ")\n"
   ],
   "metadata": {
    "collapsed": false
   }
  }
 ],
 "metadata": {
  "kernelspec": {
   "display_name": "Python 3 (ipykernel)",
   "language": "python",
   "name": "python3"
  },
  "language_info": {
   "codemirror_mode": {
    "name": "ipython",
    "version": 3
   },
   "file_extension": ".py",
   "mimetype": "text/x-python",
   "name": "python",
   "nbconvert_exporter": "python",
   "pygments_lexer": "ipython3",
   "version": "3.10.10"
  }
 },
 "nbformat": 4,
 "nbformat_minor": 5
}
