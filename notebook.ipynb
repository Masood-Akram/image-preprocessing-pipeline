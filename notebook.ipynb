{
 "cells": [
  {
   "cell_type": "markdown",
   "id": "d852ee58",
   "metadata": {},
   "source": [
    "## test bleach correction"
   ]
  },
  {
   "cell_type": "code",
   "execution_count": null,
   "id": "d010ffc4",
   "metadata": {
    "scrolled": false
   },
   "outputs": [],
   "source": [
    "from IPython.display import display, HTML\n",
    "display(HTML(\"<style>.container { width:100% !important; }</style>\"))\n",
    "from pathlib import Path\n",
    "from numpy import where\n",
    "from pystripe.core import imread_tif_raw_png, glob_re, log1p_jit, expm1_jit, filter_subband, get_bleach_correction_filter\n",
    "import matplotlib.pyplot as plt\n",
    "from skimage.filters import threshold_otsu\n",
    "\n",
    "\n",
    "files_path = Path(r\"Y:\\SmartSPIM_Data\\2023_04_02\\20230402_10_49_31_SM220712_01_LS_15x_800z\\Ex_488_Em_525_MIP\")\n",
    "for file in glob_re(r\"tiff?\", files_path):\n",
    "    img = imread_tif_raw_png(file)\n",
    "    if img.min() < img.max():\n",
    "        img_filtered = log1p_jit(img)\n",
    "        threshold = threshold_otsu(img_filtered)\n",
    "        print(threshold)\n",
    "        if threshold < 3:\n",
    "            continue\n",
    "        \n",
    "        img_filter = get_bleach_correction_filter(img_filtered, 0.000125, max_method=False)\n",
    "        img_filtered = where(img_filtered > 3, img_filtered / img_filter, img_filtered) \n",
    "        \n",
    "        img_destriped = expm1_jit(filter_subband(img_filtered, 200, 0, \"db10\", False))\n",
    "        img_filtered = expm1_jit(img_filtered)\n",
    "        \n",
    "        fig, axes = plt.subplots(nrows=2, ncols=2, figsize=(10, 10), dpi=300)\n",
    "        axes[0, 0].imshow(img, cmap='gray', vmin=0, vmax=511)\n",
    "        axes[0, 0].set_title(\"original\")\n",
    "        axes[0, 1].imshow(img_filtered, cmap='gray', vmin=0, vmax=511)\n",
    "        axes[0, 1].set_title(\"bleach corrected\")\n",
    "        axes[1, 0].imshow(img_destriped, cmap='gray', vmin=0, vmax=511)\n",
    "        axes[1, 0].set_title(\"bleach corrected -> destriped\")\n",
    "        axes[1, 1].imshow(img_filter, cmap='gray', vmin=0, vmax=1)\n",
    "        axes[1, 1].set_title(\"bleach filter\")\n",
    "        plt.tight_layout()\n",
    "        plt.show()"
   ]
  },
  {
   "cell_type": "code",
   "execution_count": null,
   "id": "210b5f48",
   "metadata": {},
   "outputs": [],
   "source": []
  }
 ],
 "metadata": {
  "kernelspec": {
   "display_name": "Python 3 (ipykernel)",
   "language": "python",
   "name": "python3"
  },
  "language_info": {
   "codemirror_mode": {
    "name": "ipython",
    "version": 3
   },
   "file_extension": ".py",
   "mimetype": "text/x-python",
   "name": "python",
   "nbconvert_exporter": "python",
   "pygments_lexer": "ipython3",
   "version": "3.10.10"
  }
 },
 "nbformat": 4,
 "nbformat_minor": 5
}
