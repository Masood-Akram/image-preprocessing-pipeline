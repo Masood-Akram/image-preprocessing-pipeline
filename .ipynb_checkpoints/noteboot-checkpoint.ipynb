{
 "cells": [
  {
   "cell_type": "code",
   "execution_count": 2,
   "id": "341b2f36",
   "metadata": {
    "scrolled": true
   },
   "outputs": [
    {
     "name": "stdout",
     "output_type": "stream",
     "text": [
      "2022-08-15 09:19:56.637552: Scheduling jobs for images in \n",
      "\t/data/20220725_17_41_55_SW220510_02_LS_15x_1000z_stitched/Ex_488_Em_525_tif_deconvolved\n"
     ]
    },
    {
     "name": "stderr",
     "output_type": "stream",
     "text": [
      "found: 8400 tif|raw images [00:00, 48014.67 tif|raw images/s]\n"
     ]
    },
    {
     "name": "stdout",
     "output_type": "stream",
     "text": [
      "2022-08-15 09:20:02.618830: using 256 workers. 8146 images need preprocessing.\n"
     ]
    },
    {
     "name": "stderr",
     "output_type": "stream",
     "text": [
      "PyStripe: 8400images [13:03, 10.72images/s]                                    \n"
     ]
    },
    {
     "data": {
      "text/plain": [
       "0"
      ]
     },
     "execution_count": 2,
     "metadata": {},
     "output_type": "execute_result"
    }
   ],
   "source": [
    "from pathlib import Path\n",
    "from pystripe import batch_filter\n",
    "batch_filter(\n",
    "    Path(r\"/data/20220725_17_41_55_SW220510_02_LS_15x_1000z_stitched/Ex_488_Em_525_tif_deconvolved\"),\n",
    "    Path(r\"/data/20220725_17_41_55_SW220510_02_LS_15x_1000z_stitched/Ex_488_Em_525_tif_deconvolved_flip_up\"),\n",
    "    compression = ('ZLIB', 0),\n",
    "    #convert_to_8bit=True,\n",
    "    #bit_shift_to_right=4,\n",
    "    flip_y=True,\n",
    "    dtype=\"uint8\",\n",
    "    #tile_size=(8474, 8667),\n",
    "    #down_sample=(2, 2),\n",
    "    #new_size=(iiininnt(8474 * 0.422 / 0.5, 8667 * 0.422 / 0.5)\n",
    ")"
   ]
  },
  {
   "cell_type": "code",
   "execution_count": null,
   "id": "fa767e9b",
   "metadata": {},
   "outputs": [],
   "source": [
    "!wine64 imaris/ImarisConvertiv.exe --input /data/20220725_17_41_55_SW220510_02_LS_15x_1000z_stitched/Ex_488_Em_525_tif_merge/img_000000.tif --output /data/20220725_17_41_55_SW220510_02_LS_15x_1000z_stitched/Ex_488_Em_525_tif_merge.ims --inputformat TiffSeries --nthreads 128 --compression 1 --voxelsize 1.0-1.0-1.0 --logprogress"
   ]
  },
  {
   "cell_type": "code",
   "execution_count": null,
   "id": "bf33645f",
   "metadata": {},
   "outputs": [],
   "source": [
    "!mpiexec -np 11 python -m mpi4py ./TeraStitcher/pyscripts/paraconverter.py --sfmt=\"TIFF (series, 2D)\" --dfmt=\"TIFF (tiled, 3D)\" --resolutions=\"012345\" --halve=mean -s=\"/data/20220725_17_41_55_SW220510_02_LS_15x_1000z_stitched/Ex_488_Em_525_tif/deconvolved\" -d=\"/qnap/3D_stitched_LS/20220725_SW220510_02_LS_6x_1000z/Ex_488_Em_525_TeraFly\""
   ]
  },
  {
   "cell_type": "code",
   "execution_count": 1,
   "id": "344e719c",
   "metadata": {},
   "outputs": [
    {
     "name": "stdout",
     "output_type": "stream",
     "text": [
      "\tusing 256 cores and 32 chunks\n"
     ]
    },
    {
     "name": "stderr",
     "output_type": "stream",
     "text": [
      "RGB: 100%|#########################################################################################################################################################################################################################################################| 8400/8400 [58:29<00:00,  2.39img/s]\n"
     ]
    }
   ],
   "source": [
    "from pathlib import Path\n",
    "from process_images import merge_all_channels\n",
    "merge_all_channels(\n",
    "    [\n",
    "        Path(r\"/data/20220725_17_41_55_SW220510_02_LS_15x_1000z_stitched/Ex_488_Em_525_tif\"),\n",
    "        Path(r\"/data/20220725_17_41_55_SW220510_02_LS_15x_1000z_stitched/Ex_488_Em_525_tif_parastitcher\"),\n",
    "        # Path(r\"/data/20220725_17_41_55_SW220510_02_LS_15x_1000z_stitched/Ex_642_Em_680_tif\")\n",
    "    ],\n",
    "    Path(r\"/data/20220725_17_41_55_SW220510_02_LS_15x_1000z_stitched/Ex_488_Em_525_tif_merge\"),\n",
    "    compression=(\"ZLIB\", 0)\n",
    ")"
   ]
  },
  {
   "cell_type": "code",
   "execution_count": null,
   "id": "bc213616",
   "metadata": {},
   "outputs": [],
   "source": []
  }
 ],
 "metadata": {
  "kernelspec": {
   "display_name": "Python 3 (ipykernel)",
   "language": "python",
   "name": "python3"
  },
  "language_info": {
   "codemirror_mode": {
    "name": "ipython",
    "version": 3
   },
   "file_extension": ".py",
   "mimetype": "text/x-python",
   "name": "python",
   "nbconvert_exporter": "python",
   "pygments_lexer": "ipython3",
   "version": "3.10.5"
  }
 },
 "nbformat": 4,
 "nbformat_minor": 5
}
